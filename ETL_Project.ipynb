{
 "cells": [
  {
   "cell_type": "code",
   "execution_count": null,
   "metadata": {},
   "outputs": [],
   "source": [
    "import pandas as pd\n",
    "#from pandas.io.json import json_normalize\n",
    "import json\n",
    "from sqlalchemy import create_engine"
   ]
  },
  {
   "cell_type": "code",
   "execution_count": null,
   "metadata": {},
   "outputs": [],
   "source": [
    "json_file = json.load(open('Resources/NYC_Tree_Census_2015.json'))\n",
    "print(len(json_file[\"meta\"][\"view\"][\"columns\"]))\n",
    "\n",
    "column_names = []\n",
    "\n",
    "for i in range(len(json_file[\"meta\"][\"view\"][\"columns\"])):\n",
    "    column_names.append(json_file[\"meta\"][\"view\"][\"columns\"][i][\"name\"])\n",
    "    \n",
    "print(column_names)\n",
    "\n",
    "tree_census_df = pd.DataFrame(json_file[\"data\"], columns = column_names)\n",
    "tree_census_df.head()\n"
   ]
  },
  {
   "cell_type": "code",
   "execution_count": null,
   "metadata": {},
   "outputs": [],
   "source": [
    "tree_columns = ['tree_id', 'health', 'zipcode', 'boroname', 'address']\n",
    "tree_transform = tree_census_df[tree_columns].copy()\n",
    "tree_transform = tree_transform.rename(columns={'tree_id':'id',\n",
    "                                                   'health':'tree_health',\n",
    "                                                   'zipcode':'zipcode_id',\n",
    "                                                   'boroname':'borough',\n",
    "                                                   'address':'address'})\n",
    "tree_transformed = tree_transform.dropna(how='any',axis=0)\n",
    "tree_transformed.set_index('id', inplace=True)\n",
    "tree_transformed.head()"
   ]
  },
  {
   "cell_type": "code",
   "execution_count": null,
   "metadata": {},
   "outputs": [],
   "source": [
    "connection_string = \"postgres:postgres@localhost:5432/tree_db\"\n",
    "engine = create_engine(f'postgresql://{connection_string}')"
   ]
  },
  {
   "cell_type": "code",
   "execution_count": null,
   "metadata": {},
   "outputs": [],
   "source": [
    "#next confirm the tables\n",
    "engine.table_names()"
   ]
  },
  {
   "cell_type": "code",
   "execution_count": null,
   "metadata": {},
   "outputs": [],
   "source": [
    "#next load the dataframe into SQL\n",
    "tree_transformed.to_sql(name='tree_census', con=engine, if_exists='append', index=True)"
   ]
  },
  {
   "cell_type": "code",
   "execution_count": null,
   "metadata": {},
   "outputs": [],
   "source": []
  },
  {
   "cell_type": "code",
   "execution_count": null,
   "metadata": {},
   "outputs": [],
   "source": []
  }
 ],
 "metadata": {
  "kernelspec": {
   "display_name": "Python 3",
   "language": "python",
   "name": "python3"
  },
  "language_info": {
   "codemirror_mode": {
    "name": "ipython",
    "version": 3
   },
   "file_extension": ".py",
   "mimetype": "text/x-python",
   "name": "python",
   "nbconvert_exporter": "python",
   "pygments_lexer": "ipython3",
   "version": "3.6.9"
  }
 },
 "nbformat": 4,
 "nbformat_minor": 2
}
