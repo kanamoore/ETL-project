{
 "cells": [
  {
   "cell_type": "code",
   "execution_count": null,
   "metadata": {},
   "outputs": [],
   "source": [
    "import pandas as pd\n",
    "#from pandas.io.json import json_normalize\n",
    "import json\n",
    "from sqlalchemy import create_engine\n",
    "import numpy as np"
   ]
  },
  {
   "cell_type": "markdown",
   "metadata": {},
   "source": [
    "## NYC Tree Data"
   ]
  },
  {
   "cell_type": "code",
   "execution_count": null,
   "metadata": {},
   "outputs": [],
   "source": [
    "json_file = json.load(open('Resources/NYC_Tree_Census_2015.json'))\n",
    "print(len(json_file[\"meta\"][\"view\"][\"columns\"]))\n",
    "\n",
    "column_names = []\n",
    "\n",
    "for i in range(len(json_file[\"meta\"][\"view\"][\"columns\"])):\n",
    "    column_names.append(json_file[\"meta\"][\"view\"][\"columns\"][i][\"name\"])\n",
    "    \n",
    "print(column_names)\n",
    "\n",
    "tree_census_df = pd.DataFrame(json_file[\"data\"], columns = column_names)\n",
    "tree_census_df.head()\n"
   ]
  },
  {
   "cell_type": "code",
   "execution_count": null,
   "metadata": {},
   "outputs": [],
   "source": [
    "tree_columns = ['tree_id', 'health', 'zipcode', 'boroname', 'address']\n",
    "tree_transform = tree_census_df[tree_columns].copy()\n",
    "tree_transform = tree_transform.rename(columns={'tree_id':'id',\n",
    "                                                   'health':'tree_health',\n",
    "                                                   'zipcode':'zipcode_id',\n",
    "                                                   'boroname':'borough',\n",
    "                                                   'address':'address'})\n",
    "tree_transformed = tree_transform.dropna(how='any',axis=0)\n",
    "tree_transformed.set_index('id', inplace=True)\n",
    "tree_transformed.head()"
   ]
  },
  {
   "cell_type": "code",
   "execution_count": null,
   "metadata": {},
   "outputs": [],
   "source": [
    "connection_string = \"postgres:postgres@localhost:5432/etl-project_db\"\n",
    "engine = create_engine(f'postgresql://{connection_string}')"
   ]
  },
  {
   "cell_type": "code",
   "execution_count": null,
   "metadata": {},
   "outputs": [],
   "source": []
  },
  {
   "cell_type": "markdown",
   "metadata": {},
   "source": [
    "## NYC Property Sales Data"
   ]
  },
  {
   "cell_type": "code",
   "execution_count": null,
   "metadata": {},
   "outputs": [],
   "source": [
    "# Read csv file\n",
    "property_data = pd.read_csv(\"Resources/nyc-rolling-sales.csv\")\n",
    "property_data.head()"
   ]
  },
  {
   "cell_type": "code",
   "execution_count": null,
   "metadata": {},
   "outputs": [],
   "source": [
    "# Only show needed columns\n",
    "property_data = property_data[[\"BOROUGH\", \"NEIGHBORHOOD\", \"ADDRESS\",\"SALE PRICE\"]]\n",
    "property_data"
   ]
  },
  {
   "cell_type": "code",
   "execution_count": null,
   "metadata": {},
   "outputs": [],
   "source": [
    "# Replace - with 0\n",
    "property_sales_df = property_data.replace(\"-\",0, regex=True)"
   ]
  },
  {
   "cell_type": "code",
   "execution_count": null,
   "metadata": {},
   "outputs": [],
   "source": [
    "# Drop any rows with sale price $0\n",
    "property_sales_df = property_sales_df.replace(0, np.nan)\n",
    "property_sales_df = property_sales_df.dropna(how='any', axis=0)\n",
    "property_sales_df.head()"
   ]
  },
  {
   "cell_type": "code",
   "execution_count": null,
   "metadata": {},
   "outputs": [],
   "source": [
    "# Check data types\n",
    "property_sales_df.dtypes"
   ]
  },
  {
   "cell_type": "code",
   "execution_count": null,
   "metadata": {},
   "outputs": [],
   "source": [
    "# Change data type to integer\n",
    "property_sales_df[\"SALE PRICE\"] = pd.to_numeric(property_sales_df[\"SALE PRICE\"])\n",
    "property_sales_df.head()"
   ]
  },
  {
   "cell_type": "code",
   "execution_count": null,
   "metadata": {},
   "outputs": [],
   "source": [
    "# Confirm data type\n",
    "property_sales_df.dtypes"
   ]
  },
  {
   "cell_type": "code",
   "execution_count": null,
   "metadata": {},
   "outputs": [],
   "source": [
    "# Rename columns\n",
    "property_sales_df = property_sales_df.rename(columns = {\"BOROUGH\" : \"borough_id\",\n",
    "                                                        \"NEIGHBORHOOD\" : \"neighborhood\",\n",
    "                                                        \"ADDRESS\" : \"address\",\n",
    "                                                        \"SALE PRICE\" : \"sale_price\"})\n",
    "property_sales_df.head()"
   ]
  },
  {
   "cell_type": "code",
   "execution_count": null,
   "metadata": {},
   "outputs": [],
   "source": [
    "# Create borough name table\n",
    "borough_table = pd.DataFrame({  'borough_id' : [1,2,3,4,5],\n",
    "                                'borough':['Manhattan','Bronx','Brooklyn','Queens','Staten Island']})\n",
    "borough_table"
   ]
  },
  {
   "cell_type": "code",
   "execution_count": null,
   "metadata": {},
   "outputs": [],
   "source": [
    "# Merge borough name dataframe and borugh ID dataframe\n",
    "property_sales_df = pd.merge(borough_table, property_sales_df, on = 'borough_id')\n",
    "property_sales_df"
   ]
  },
  {
   "cell_type": "markdown",
   "metadata": {},
   "source": [
    "## Connect to SQL"
   ]
  },
  {
   "cell_type": "code",
   "execution_count": null,
   "metadata": {},
   "outputs": [],
   "source": [
    "# Create engine\n",
    "rds_connection_string = \"postgres:postgres@localhost:5432/etl-project_db\"\n",
    "engine = create_engine(f'postgresql://{rds_connection_string}')"
   ]
  },
  {
   "cell_type": "code",
   "execution_count": null,
   "metadata": {},
   "outputs": [],
   "source": [
    "# load tree dataframe into SQL\n",
    "tree_transformed.to_sql(name='tree_census', con=engine, if_exists='append', index=True)"
   ]
  },
  {
   "cell_type": "code",
   "execution_count": null,
   "metadata": {},
   "outputs": [],
   "source": [
    "# Load property_sales_df data to sql table\n",
    "property_sales_df.to_sql(name='property_sales', con=engine, if_exists='append', index=False)"
   ]
  },
  {
   "cell_type": "code",
   "execution_count": null,
   "metadata": {},
   "outputs": [],
   "source": [
    "# Get table names\n",
    "engine.table_names()"
   ]
  },
  {
   "cell_type": "code",
   "execution_count": null,
   "metadata": {},
   "outputs": [],
   "source": []
  }
 ],
 "metadata": {
  "kernelspec": {
   "display_name": "Python 3",
   "language": "python",
   "name": "python3"
  },
  "language_info": {
   "codemirror_mode": {
    "name": "ipython",
    "version": 3
   },
   "file_extension": ".py",
   "mimetype": "text/x-python",
   "name": "python",
   "nbconvert_exporter": "python",
   "pygments_lexer": "ipython3",
   "version": "3.6.9"
  }
 },
 "nbformat": 4,
 "nbformat_minor": 2
}
